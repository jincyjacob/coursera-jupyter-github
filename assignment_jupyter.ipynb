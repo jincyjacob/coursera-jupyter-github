{
 "cells": [
  {
   "cell_type": "markdown",
   "id": "f189a47b",
   "metadata": {},
   "source": [
    "# My Jupyter Notebook on IBM Watson Studio"
   ]
  },
  {
   "cell_type": "markdown",
   "id": "ea05ba11",
   "metadata": {},
   "source": [
    "<b>JINCY JACOB</b> <br>\n",
    " Business System Analyst"
   ]
  },
  {
   "cell_type": "markdown",
   "id": "47511a87",
   "metadata": {},
   "source": [
    "<i>I am interested in data science because it has a lot of relevance in the tech world today where amazing insights can be drawn from data.</i>"
   ]
  },
  {
   "cell_type": "markdown",
   "id": "1e127bb4",
   "metadata": {},
   "source": [
    "### Addition of 3 numbers & printing the result"
   ]
  },
  {
   "cell_type": "code",
   "execution_count": 2,
   "id": "d9380590",
   "metadata": {},
   "outputs": [
    {
     "name": "stdout",
     "output_type": "stream",
     "text": [
      "addition: 60\n"
     ]
    }
   ],
   "source": [
    "a=10\n",
    "b=20\n",
    "c=30\n",
    "print(\"addition:\",a+b+c)"
   ]
  },
  {
   "cell_type": "markdown",
   "id": "fabc7730",
   "metadata": {},
   "source": [
    "\n",
    "|Item|Price| \n",
    "|-----|-----|\n",
    "|Apple|40| \n",
    "|Banana|50|\n",
    "\n",
    "<br>\n",
    "<hr>\n",
    "\n",
    "This is a good course with\n",
    "<ol><li>amazing content</li><li>hands-on practice</li><li>quiz</li></ol>\n",
    "\n",
    "Refer <a href=\"https://www.google.com\" > Google </a>for more<br>"
   ]
  },
  {
   "cell_type": "code",
   "execution_count": null,
   "id": "59b55299",
   "metadata": {},
   "outputs": [],
   "source": []
  }
 ],
 "metadata": {
  "kernelspec": {
   "display_name": "Python 3",
   "language": "python",
   "name": "python3"
  },
  "language_info": {
   "codemirror_mode": {
    "name": "ipython",
    "version": 3
   },
   "file_extension": ".py",
   "mimetype": "text/x-python",
   "name": "python",
   "nbconvert_exporter": "python",
   "pygments_lexer": "ipython3",
   "version": "3.8.8"
  }
 },
 "nbformat": 4,
 "nbformat_minor": 5
}
